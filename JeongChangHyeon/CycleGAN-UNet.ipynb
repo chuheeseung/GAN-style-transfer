{
 "cells": [
  {
   "cell_type": "code",
   "execution_count": 1,
   "metadata": {},
   "outputs": [],
   "source": [
    "import torch\n",
    "import torch.nn as nn\n",
    "from torch.utils.data import Dataset, DataLoader\n",
    "import torch.optim as optim\n",
    "from unet.unet_model import UNet\n",
    "\n",
    "import os\n",
    "# import kaggledatasets\n",
    "import matplotlib.pyplot as plt\n",
    "import numpy as np"
   ]
  },
  {
   "cell_type": "code",
   "execution_count": 2,
   "metadata": {},
   "outputs": [
    {
     "data": {
      "text/plain": [
       "device(type='cuda')"
      ]
     },
     "execution_count": 2,
     "metadata": {},
     "output_type": "execute_result"
    }
   ],
   "source": [
    "device = torch.device('cuda')\n",
    "device"
   ]
  },
  {
   "cell_type": "code",
   "execution_count": 3,
   "metadata": {},
   "outputs": [],
   "source": [
    "class Imageset(Dataset):\n",
    "    def __init__(self, dir_path, shape):\n",
    "        self.dir_path = dir_path\n",
    "        self.img_shape = shape\n",
    "        self.img_list = self.read_files(self.dir_path)\n",
    "\n",
    "    def read_files(self, dir_path):\n",
    "        file_list = os.listdir(dir_path)\n",
    "        return file_list\n",
    "    \n",
    "    def __getitem__(self, index):\n",
    "\n",
    "        return torch.Tensor(plt.imread(self.dir_path+self.img_list[index])/128 - 1  ) # /128 - 1 : generalization\n",
    "#         return plt.imread(self.dir_path+self.img_list[index])\n",
    "\n",
    "    def __len__(self):\n",
    "        return len(self.img_list)"
   ]
  },
  {
   "cell_type": "code",
   "execution_count": 4,
   "metadata": {},
   "outputs": [],
   "source": [
    "# Aset = Imageset('./dataset/photo2monet/monet_jpg/', [256,256])\n",
    "# Bset = Imageset('./dataset/photo2monet/photo_jpg/', [256,256])\n",
    "\n",
    "\n",
    "# A_loader = DataLoader(dataset = Aset,\n",
    "#                            batch_size=1,\n",
    "#                            shuffle=True, \n",
    "#                            num_workers=0)\n",
    "\n",
    "# B_loader = DataLoader(dataset = Bset,\n",
    "#                            batch_size=1,\n",
    "#                            shuffle=True, \n",
    "#                            num_workers=0)"
   ]
  },
  {
   "cell_type": "code",
   "execution_count": 5,
   "metadata": {},
   "outputs": [],
   "source": [
    "Aset = Imageset('./dataset/horse2zebra/testA/', [256,256])\n",
    "Bset = Imageset('./dataset/horse2zebra/testB/', [256,256])\n",
    "\n",
    "\n",
    "A_loader = DataLoader(dataset = Aset,\n",
    "                           batch_size=1,\n",
    "                           shuffle=True, \n",
    "                           num_workers=0)\n",
    "\n",
    "B_loader = DataLoader(dataset = Bset,\n",
    "                           batch_size=1,\n",
    "                           shuffle=True, \n",
    "                           num_workers=0)"
   ]
  },
  {
   "cell_type": "code",
   "execution_count": 6,
   "metadata": {},
   "outputs": [],
   "source": [
    "def downsample_noins(in_dim, out_dim, size):\n",
    "    model = nn.Sequential(\n",
    "        nn.Conv2d(in_dim, out_dim, kernel_size=size, stride=2, padding=1),\n",
    "        nn.LeakyReLU(),\n",
    "    )\n",
    "    return model"
   ]
  },
  {
   "cell_type": "code",
   "execution_count": 7,
   "metadata": {},
   "outputs": [],
   "source": [
    "def downsample(in_dim, out_dim, size):\n",
    "    model = nn.Sequential(\n",
    "        nn.Conv2d(in_dim, out_dim, kernel_size=size, stride=2, padding=1),\n",
    "        nn.InstanceNorm2d(out_dim),\n",
    "        nn.LeakyReLU(),\n",
    "    )\n",
    "    return model"
   ]
  },
  {
   "cell_type": "code",
   "execution_count": null,
   "metadata": {},
   "outputs": [],
   "source": []
  },
  {
   "cell_type": "code",
   "execution_count": 8,
   "metadata": {},
   "outputs": [],
   "source": [
    "class Discriminator(nn.Module):\n",
    "    def __init__(self, in_dim, out_dim):\n",
    "        super(Discriminator, self).__init__()\n",
    "        self.in_dim = in_dim\n",
    "        self.out_dim = out_dim\n",
    "        act_fn = nn.LeakyReLU(0.2, inplace=True)\n",
    "        \n",
    "        \n",
    "        ## init Unet\n",
    "        self.down_1 = downsample_noins(3,64,4)\n",
    "        self.down_2 = downsample(64,128,4)\n",
    "        self.down_3 = downsample(128,256,4)\n",
    "        self.down_4 = nn.Sequential(\n",
    "            nn.Conv2d(256, 512, kernel_size=4, stride=1, padding=2),\n",
    "            nn.InstanceNorm2d(512),\n",
    "            nn.Tanh(),\n",
    "        )\n",
    "        self.last = nn.Sequential(\n",
    "            nn.Conv2d(512, 1, kernel_size=4, stride=1, padding=0),\n",
    "            nn.Sigmoid(),\n",
    "        )\n",
    "        \n",
    "        \n",
    "    def forward(self, input):\n",
    "\n",
    "        d_1 = self.down_1(input) # [b,64,128,128]\n",
    "        d_2 = self.down_2(d_1) # [b,128,64,64]\n",
    "        d_3 = self.down_3(d_2) # [b, 256,32,32]\n",
    "        d_4 = self.down_4(d_3) # [b, 512,33,33]\n",
    "        out = self.last(d_4) # [b, 1,30,30]\n",
    "        return out"
   ]
  },
  {
   "cell_type": "code",
   "execution_count": 9,
   "metadata": {},
   "outputs": [],
   "source": [
    "def generator_loss(generated):\n",
    "    return nn.BCELoss()(generated, torch.ones(generated.shape).to(device))"
   ]
  },
  {
   "cell_type": "code",
   "execution_count": 10,
   "metadata": {},
   "outputs": [],
   "source": [
    "def discriminator_loss(real, generated):\n",
    "    real_loss = nn.BCEWithLogitsLoss()(real, torch.ones(real.shape).to(device))\n",
    "    generated_loss =  nn.BCEWithLogitsLoss()(generated, torch.zeros(generated.shape).to(device))\n",
    "    total_disc_loss = real_loss + generated_loss\n",
    "    return total_disc_loss*0.5"
   ]
  },
  {
   "cell_type": "code",
   "execution_count": 11,
   "metadata": {},
   "outputs": [],
   "source": [
    "def calc_cycle_loss(real_image, cycled_image, LAMBDA):\n",
    "    loss = torch.mean(torch.abs(real_image - cycled_image))\n",
    "    return LAMBDA * loss"
   ]
  },
  {
   "cell_type": "code",
   "execution_count": 12,
   "metadata": {},
   "outputs": [],
   "source": [
    "def identity_loss(real_image, same_image, LAMBDA):\n",
    "    loss = torch.mean(torch.abs(real_image - same_image))\n",
    "    return LAMBDA * 0.5 * loss"
   ]
  },
  {
   "cell_type": "code",
   "execution_count": 13,
   "metadata": {},
   "outputs": [],
   "source": [
    "class CycleGAN(nn.Module):\n",
    "    def __init__(self, lambda_cycle=10):\n",
    "        super(CycleGAN, self).__init__()\n",
    "        self.lambda_cycle=lambda_cycle\n",
    "        self.A_gen = UNet(3,3)\n",
    "        self.B_gen = UNet(3,3)\n",
    "        self.A_disc = Discriminator(256,3)\n",
    "        self.B_disc = Discriminator(256,3)\n",
    "        \n",
    "        self.gen_loss_fn = generator_loss\n",
    "        self.disc_loss_fn = discriminator_loss\n",
    "        self.cycle_loss_fn = calc_cycle_loss\n",
    "        self.identity_loss_fn = identity_loss\n",
    "        \n",
    "    def forward(self, batch_data):\n",
    "        real_A = batch_data[0]\n",
    "        real_B = batch_data[1]\n",
    "        \n",
    "        # photo to monet back to photo\n",
    "        fake_A = self.A_gen(real_B.permute(0,3,1,2)).permute(0,2,3,1)\n",
    "        cycled_B = self.B_gen(fake_A.permute(0,3,1,2)).permute(0,2,3,1)\n",
    "        \n",
    "        # monet to photo back to monet \n",
    "        fake_B = self.B_gen(real_A.permute(0,3,1,2)).permute(0,2,3,1)\n",
    "        cycled_A = self.A_gen(fake_B.permute(0,3,1,2)).permute(0,2,3,1)\n",
    "        \n",
    "        # generating itself\n",
    "        same_A = self.A_gen(real_A.permute(0,3,1,2)).permute(0,2,3,1)\n",
    "        same_B = self.B_gen(real_B.permute(0,3,1,2)).permute(0,2,3,1)\n",
    "        \n",
    "        # discriminator used to check, inputing real images\n",
    "        disc_real_A = self.A_disc(real_A.permute(0,3,1,2))\n",
    "        disc_real_B = self.B_disc(real_B.permute(0,3,1,2))\n",
    "        \n",
    "        # discriminator used to check, inputing fake images\n",
    "        disc_fake_A = self.A_disc(fake_A.permute(0,3,1,2))\n",
    "        disc_fake_B = self.B_disc(fake_B.permute(0,3,1,2))\n",
    "        \n",
    "        # evaluates generator loss\n",
    "        A_gen_loss = self.gen_loss_fn(disc_fake_A)\n",
    "        B_gen_loss = self.gen_loss_fn(disc_fake_B)\n",
    "        \n",
    "        # evaluates total cycle consistency loss\n",
    "        total_cycle_loss = self.cycle_loss_fn(real_A, cycled_A, self.lambda_cycle) + self.cycle_loss_fn(real_B, cycled_B, self.lambda_cycle)\n",
    "        \n",
    "        # evaluates total generator loss\n",
    "        total_A_gen_loss = A_gen_loss + total_cycle_loss + self.identity_loss_fn(real_A, same_A, self.lambda_cycle)\n",
    "        total_B_gen_loss = B_gen_loss + total_cycle_loss + self.identity_loss_fn(real_B, same_B, self.lambda_cycle)\n",
    "        \n",
    "        # evaluates discriminator loss\n",
    "        A_disc_loss = self.disc_loss_fn(disc_real_A, disc_fake_A)\n",
    "        B_disc_loss = self.disc_loss_fn(disc_real_B, disc_fake_B)\n",
    "        \n",
    "        return total_A_gen_loss, total_B_gen_loss, A_disc_loss, B_disc_loss"
   ]
  },
  {
   "cell_type": "code",
   "execution_count": 14,
   "metadata": {},
   "outputs": [],
   "source": [
    "model = CycleGAN().to(device)"
   ]
  },
  {
   "cell_type": "code",
   "execution_count": 15,
   "metadata": {},
   "outputs": [],
   "source": [
    "optimizer = optim.Adam(model.parameters(), lr=2e-4, amsgrad=False)"
   ]
  },
  {
   "cell_type": "code",
   "execution_count": 16,
   "metadata": {},
   "outputs": [],
   "source": [
    "def train():\n",
    "    model.train()\n",
    "    \n",
    "    A_iter = iter(A_loader)\n",
    "    B_iter = iter(B_loader)\n",
    "#     loss = []\n",
    "    for a,b in zip(enumerate(A_iter), enumerate(B_iter)):\n",
    "\n",
    "        optimizer.zero_grad()\n",
    "        total_A_gen_loss, total_B_gen_loss, A_disc_loss, B_disc_loss = model([a[1].to(device),b[1].to(device)])\n",
    "#         loss.append(total_monet_gen_loss.item)\n",
    "        total_A_gen_loss.backward(retain_graph = True)\n",
    "        total_B_gen_loss.backward(retain_graph = True)\n",
    "        A_disc_loss.backward()\n",
    "        B_disc_loss.backward()\n",
    "        \n",
    "        optimizer.step()\n",
    "        \n",
    "#     return np.mean(loss)"
   ]
  },
  {
   "cell_type": "code",
   "execution_count": null,
   "metadata": {
    "scrolled": true
   },
   "outputs": [
    {
     "name": "stdout",
     "output_type": "stream",
     "text": [
      "epoch: 1\n"
     ]
    }
   ],
   "source": [
    "epochs = 10\n",
    "for i in range(1, epochs+1):\n",
    "    print('epoch:', i)\n",
    "    loss = train()\n",
    "    print(loss)"
   ]
  },
  {
   "cell_type": "code",
   "execution_count": null,
   "metadata": {},
   "outputs": [],
   "source": [
    "torch.save(model.state_dict(), \"model.pt\")"
   ]
  },
  {
   "cell_type": "code",
   "execution_count": null,
   "metadata": {},
   "outputs": [],
   "source": [
    "model.load_state_dict(torch.load('./model.pt'))"
   ]
  },
  {
   "cell_type": "code",
   "execution_count": null,
   "metadata": {},
   "outputs": [],
   "source": [
    "pic = Aset.__getitem__(0)\n",
    "pic += 1\n",
    "pic *= 128\n",
    "plt.imshow( pic.long().numpy())"
   ]
  },
  {
   "cell_type": "code",
   "execution_count": null,
   "metadata": {},
   "outputs": [],
   "source": [
    "with torch.no_grad():\n",
    "    generated = model.B_gen(pic.unsqueeze(0).permute(0,3,1,2).to(device) ).permute(0,2,3,1)\n",
    "    generated += 1\n",
    "    generated *= 128\n",
    "    generated = generated.to('cpu').squeeze(0).numpy().astype('long')\n",
    "    plt.imshow(generated)"
   ]
  },
  {
   "cell_type": "code",
   "execution_count": null,
   "metadata": {},
   "outputs": [],
   "source": []
  },
  {
   "cell_type": "code",
   "execution_count": null,
   "metadata": {},
   "outputs": [],
   "source": []
  }
 ],
 "metadata": {
  "kernelspec": {
   "display_name": "Python 3",
   "language": "python",
   "name": "python3"
  },
  "language_info": {
   "codemirror_mode": {
    "name": "ipython",
    "version": 3
   },
   "file_extension": ".py",
   "mimetype": "text/x-python",
   "name": "python",
   "nbconvert_exporter": "python",
   "pygments_lexer": "ipython3",
   "version": "3.7.9"
  }
 },
 "nbformat": 4,
 "nbformat_minor": 4
}
